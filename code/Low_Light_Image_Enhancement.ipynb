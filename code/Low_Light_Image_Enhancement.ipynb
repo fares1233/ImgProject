{
 "cells": [
  {
   "cell_type": "markdown",
   "id": "bbbdfe3c",
   "metadata": {},
   "source": [
    "Required Libraries"
   ]
  },
  {
   "cell_type": "code",
   "execution_count": 3,
   "id": "51d3335a",
   "metadata": {},
   "outputs": [],
   "source": [
    "import matplotlib.pyplot as plt\n",
    "from skimage import io, exposure,img_as_float\n",
    "from skimage.metrics import structural_similarity as ssim\n",
    "import cv2\n",
    "import numpy as np\n",
    "import os\n",
    "from PIL import Image,ImageOps"
   ]
  },
  {
   "cell_type": "markdown",
   "id": "7c448a13",
   "metadata": {},
   "source": [
    "Clahe"
   ]
  },
  {
   "cell_type": "code",
   "execution_count": null,
   "id": "81dea474",
   "metadata": {},
   "outputs": [],
   "source": [
    "image = img_as_float(io.imread(r'D:\\low light image\\LOLdataset\\our485\\low\\low\\25.png', as_gray=True))#load image and convert it to gray\n",
    "\n",
    "# 2. Global histogram equalization (float64 output, 0–1)\n",
    "global_eq = exposure.equalize_hist(image)\n",
    "\n",
    "# 3. CLAHE: adaptive equalization with clip limit for noise control\n",
    "clahe_eq = exposure.equalize_adapthist(image, clip_limit=0.01)#clahe_eq = exposure.equalize_adapthist(image, clip_limit=0.01, kernel_size=(64, 64))"
   ]
  },
  {
   "cell_type": "markdown",
   "id": "1e41f32f",
   "metadata": {},
   "source": [
    "Log Transformation"
   ]
  },
  {
   "cell_type": "code",
   "execution_count": null,
   "id": "8f0e8f0d",
   "metadata": {},
   "outputs": [],
   "source": [
    "image_path = r\"C:\\Users\\fares\\OneDrive\\Desktop\\151800.jpg\"\n",
    "\n",
    "try:  # Start a try block to handle potential errors\n",
    "    original_image = Image.open(image_path).convert('RGB')  # Load the image and convert it to RGB format\n",
    "\n",
    "    def log_transform_color(image, c=40):  # Define a function for logarithmic transformation with a constant c\n",
    "        img_array = np.array(image).astype(np.float64)  # Convert the image to a numpy array with float64 type for calculations\n",
    "        log_transformed = c * np.log1p(img_array)  # Apply logarithmic transformation: c * log(1 + pixel_value)\n",
    "        normalized = np.clip(log_transformed, 0, 255).astype(np.uint8)  # Clip values to [0, 255] and convert to uint8 for image compatibility\n",
    "        return Image.fromarray(normalized)  # Convert the array back to a PIL Image and return it\n",
    "\n",
    "    enhanced_image = log_transform_color(original_image)  # Apply the logarithmic transformation to the original image\n",
    "\n",
    "    r, g, b = enhanced_image.split()  # Split the enhanced image into its red, green, and blue channels\n",
    "    r_eq = ImageOps.equalize(r)  # Apply histogram equalization to the red channel to balance its intensity\n",
    "    g_eq = ImageOps.equalize(g)  # Apply histogram equalization to the green channel\n",
    "    b_eq = ImageOps.equalize(b)  # Apply histogram equalization to the blue channel\n",
    "    final_image = Image.merge(\"RGB\", (r_eq, g_eq, b_eq))  # Merge the equalized channels back into a single RGB image\n",
    "\n",
    "    plt.figure(figsize=(12, 6))  # Create a new figure for plotting with a size of 12x6 inches\n",
    "    plt.subplot(1, 2, 1)  # Create a subplot (1 row, 2 columns, select 1st position) for the original image\n",
    "    plt.imshow(original_image)  # Display the original image in the subplot\n",
    "    plt.title(\"Original Image\")  # Set the title of the subplot to \"Original Image\"\n",
    "    plt.axis('off')  # Hide the axes for a cleaner display\n",
    "\n",
    "    plt.subplot(1, 2, 2)  # Create a subplot (1 row, 2 columns, select 2nd position) for the processed image\n",
    "    plt.imshow(final_image)  # Display the final processed image in the subplot\n",
    "    plt.title(\"After Log Transformation\")  # Set the title of the subplot to \"After Log Transformation\"\n",
    "    plt.axis('off')  # Hide the axes for a cleaner display\n",
    "\n",
    "    plt.tight_layout()  # Adjust the layout to prevent overlapping of subplots\n",
    "    plt.show()  # Display the figure with both images\n",
    "\n",
    "    print(\"Image processed successfully!\")  # Print a success message if processing completes without errors\n",
    "\n",
    "except FileNotFoundError:  # Catch a FileNotFoundError if the image path is invalid\n",
    "    print(\"Error: Image not found! Please check the path.\")  # Print an error message for invalid path"
   ]
  },
  {
   "cell_type": "markdown",
   "id": "e53a12c4",
   "metadata": {},
   "source": [
    "Gamma Correction"
   ]
  },
  {
   "cell_type": "code",
   "execution_count": null,
   "id": "9dfe4fb0",
   "metadata": {},
   "outputs": [],
   "source": [
    "# Path to the input image\n",
    "IMAGE_PATH = r\"C:/Users/mahmo/OneDrive/Desktop/images/WhatsApp Image 2025-05-04 at 15.41.49_30f0b039.jpg\"\n",
    "\n",
    "# Different gamma values to try\n",
    "GAMMA_VALUES = [0.5, 0.8, 1.0, 1.5, 2.0, 2.5]\n",
    "\n",
    "# Function to load an image from disk\n",
    "def load_image(path):\n",
    "    if not os.path.exists(path):\n",
    "        raise FileNotFoundError(\"image is not found\")  # Raise error if image doesn't exist\n",
    "    \n",
    "    img = cv2.imread(path)  # Read the image using OpenCV\n",
    "    if img is None:\n",
    "        raise ValueError(\"Image format not supported\")  # Raise error if image can't be read\n",
    "\n",
    "    return cv2.cvtColor(img, cv2.COLOR_BGR2RGB)  # Convert BGR (OpenCV default) to RGB\n",
    "\n",
    "# Function to apply gamma correction on an image\n",
    "def apply_gamma_correction(image, gamma):\n",
    "    inv_gamma = 1.0 / gamma  # Calculate the inverse gamma value\n",
    "    # Create a lookup table for faster pixel adjustment\n",
    "    table = np.array([(i / 255.0) ** inv_gamma * 255 for i in range(256)]).astype(\"uint8\")\n",
    "    return cv2.LUT(image, table)  # Apply the LUT to the image"
   ]
  }
 ],
 "metadata": {
  "kernelspec": {
   "display_name": "Python 3",
   "language": "python",
   "name": "python3"
  },
  "language_info": {
   "codemirror_mode": {
    "name": "ipython",
    "version": 3
   },
   "file_extension": ".py",
   "mimetype": "text/x-python",
   "name": "python",
   "nbconvert_exporter": "python",
   "pygments_lexer": "ipython3",
   "version": "3.13.0"
  }
 },
 "nbformat": 4,
 "nbformat_minor": 5
}
