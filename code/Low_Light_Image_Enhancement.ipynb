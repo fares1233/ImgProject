{
 "cells": [
  {
   "cell_type": "markdown",
   "id": "bbbdfe3c",
   "metadata": {},
   "source": [
    "Required Libraries"
   ]
  },
  {
   "cell_type": "code",
   "execution_count": 3,
   "id": "51d3335a",
   "metadata": {},
   "outputs": [],
   "source": [
    "import matplotlib.pyplot as plt\n",
    "from skimage import io, exposure,img_as_float\n",
    "from skimage.metrics import structural_similarity as ssim\n",
    "import cv2\n",
    "import numpy as np\n",
    "import os\n",
    "from PIL import Image,ImageOps"
   ]
  },
  {
   "cell_type": "markdown",
   "id": "7c448a13",
   "metadata": {},
   "source": [
    "Clahe"
   ]
  },
  {
   "cell_type": "code",
   "execution_count": null,
   "id": "81dea474",
   "metadata": {},
   "outputs": [],
   "source": []
  },
  {
   "cell_type": "markdown",
   "id": "1e41f32f",
   "metadata": {},
   "source": [
    "Log Transformation"
   ]
  },
  {
   "cell_type": "code",
   "execution_count": null,
   "id": "8f0e8f0d",
   "metadata": {},
   "outputs": [],
   "source": [
    "def log_transform_color(image, c=40):  # Define a function for logarithmic transformation with a constant c\n",
    "        img_array = np.array(image).astype(np.float64)  # Convert the image to a numpy array with float64 type for calculations\n",
    "        log_transformed = c * np.log1p(img_array)  # Apply logarithmic transformation: c * log(1 + pixel_value)\n",
    "        normalized = np.clip(log_transformed, 0, 255).astype(np.uint8)  # Clip values to [0, 255] and convert to uint8 for image compatibility\n",
    "        return Image.fromarray(normalized)  # Convert the array back to a PIL Image and return it"
   ]
  },
  {
   "cell_type": "markdown",
   "id": "e53a12c4",
   "metadata": {},
   "source": [
    "Gamma Correction"
   ]
  },
  {
   "cell_type": "code",
   "execution_count": null,
   "id": "9dfe4fb0",
   "metadata": {},
   "outputs": [],
   "source": []
  }
 ],
 "metadata": {
  "kernelspec": {
   "display_name": "Python 3",
   "language": "python",
   "name": "python3"
  },
  "language_info": {
   "codemirror_mode": {
    "name": "ipython",
    "version": 3
   },
   "file_extension": ".py",
   "mimetype": "text/x-python",
   "name": "python",
   "nbconvert_exporter": "python",
   "pygments_lexer": "ipython3",
   "version": "3.13.0"
  }
 },
 "nbformat": 4,
 "nbformat_minor": 5
}
